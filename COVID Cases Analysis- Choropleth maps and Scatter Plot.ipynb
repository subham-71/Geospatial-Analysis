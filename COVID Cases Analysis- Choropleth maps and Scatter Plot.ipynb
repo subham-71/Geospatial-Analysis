{
 "cells": [
  {
   "cell_type": "code",
   "execution_count": null,
   "id": "07689900",
   "metadata": {},
   "outputs": [],
   "source": [
    "import pandas as pd\n",
    "import numpy as np\n",
    "import matplotlib.pyplot as plt"
   ]
  },
  {
   "cell_type": "code",
   "execution_count": null,
   "id": "2730ca5a",
   "metadata": {
    "scrolled": false
   },
   "outputs": [],
   "source": [
    "!pip install plotly"
   ]
  },
  {
   "cell_type": "code",
   "execution_count": null,
   "id": "6801b927",
   "metadata": {},
   "outputs": [],
   "source": [
    "import plotly\n",
    "import plotly.express as px\n",
    "import plotly.graph_objs as go\n",
    "from plotly import tools\n",
    "from plotly.offline import init_notebook_mode,plot,iplot"
   ]
  },
  {
   "cell_type": "code",
   "execution_count": null,
   "id": "09a7961c",
   "metadata": {},
   "outputs": [],
   "source": [
    "current_data=pd.read_csv('https://raw.githubusercontent.com/datasets/covid-19/master/data/countries-aggregated.csv')\n",
    "current_data.tail()"
   ]
  },
  {
   "cell_type": "markdown",
   "id": "e82da2f8",
   "metadata": {},
   "source": [
    "# Choropleth Maps"
   ]
  },
  {
   "cell_type": "code",
   "execution_count": null,
   "id": "914c7b92",
   "metadata": {},
   "outputs": [],
   "source": [
    "fig=px.choropleth(current_data,locations='Country',locationmode='country names',color='Confirmed',animation_frame='Date')\n"
   ]
  },
  {
   "cell_type": "code",
   "execution_count": null,
   "id": "cb01c4d6",
   "metadata": {},
   "outputs": [],
   "source": [
    "fig.update_layout(title=\"Map of confirmed cases til Today\",template='plotly_dark')\n",
    "fig.show()"
   ]
  },
  {
   "cell_type": "code",
   "execution_count": null,
   "id": "1f34893b",
   "metadata": {},
   "outputs": [],
   "source": [
    "fig=px.choropleth(current_data,locations='Country',locationmode='country names',color='Confirmed',animation_frame='Date',scope=\"asia\")\n",
    "fig.update_layout(title=\"Map of confirmed cases til Today in Asia\",template='plotly_dark')\n",
    "fig.show()"
   ]
  },
  {
   "cell_type": "code",
   "execution_count": null,
   "id": "ec7d5b1e",
   "metadata": {
    "scrolled": false
   },
   "outputs": [],
   "source": [
    "fig=px.choropleth(current_data,locations='Country',locationmode='country names',color='Recovered',animation_frame='Date')\n",
    "fig.update_layout(title=\"Map of Recovered cases til Today\",template='plotly_dark')\n",
    "fig.show()"
   ]
  },
  {
   "cell_type": "markdown",
   "id": "99e18cdd",
   "metadata": {},
   "source": [
    "# Scatter Plot"
   ]
  },
  {
   "cell_type": "code",
   "execution_count": null,
   "id": "b687e28c",
   "metadata": {},
   "outputs": [],
   "source": [
    "fig=px.scatter_geo(current_data,locations='Country',locationmode='country names',color='Confirmed',size='Confirmed',hover_name='Country',animation_frame='Date',title='Spread over time')\n",
    "fig.update(layout_template='plotly_dark')\n",
    "fig.show()"
   ]
  },
  {
   "cell_type": "code",
   "execution_count": null,
   "id": "a253d451",
   "metadata": {},
   "outputs": [],
   "source": [
    "fig=px.scatter_geo(current_data,locations='Country',locationmode='country names',color='Recovered',size='Confirmed',hover_name='Country',animation_frame='Date',title='Recovered over time')\n",
    "fig.update(layout_template='plotly_dark')\n",
    "fig.show()"
   ]
  },
  {
   "cell_type": "code",
   "execution_count": null,
   "id": "6359716f",
   "metadata": {},
   "outputs": [],
   "source": [
    "df= current_data[current_data['Country']=='India']\n",
    "df.tail()"
   ]
  }
 ],
 "metadata": {
  "kernelspec": {
   "display_name": "Python 3",
   "language": "python",
   "name": "python3"
  },
  "language_info": {
   "codemirror_mode": {
    "name": "ipython",
    "version": 3
   },
   "file_extension": ".py",
   "mimetype": "text/x-python",
   "name": "python",
   "nbconvert_exporter": "python",
   "pygments_lexer": "ipython3",
   "version": "3.8.5"
  }
 },
 "nbformat": 4,
 "nbformat_minor": 5
}
